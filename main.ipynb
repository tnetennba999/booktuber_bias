{
 "cells": [
  {
   "cell_type": "markdown",
   "metadata": {},
   "source": [
    "# Booktuber Bias"
   ]
  },
  {
   "cell_type": "markdown",
   "metadata": {},
   "source": [
    "Title: “Are Booktubers Overhyping Your DNF Pile?”\n",
    "\n",
    "🧠 Concept:\n",
    "Compare ratings from a Booktuber’s recommendation list with your personal ratings (or Goodreads average ratings) to detect possible bias, hype, or mismatch.\n",
    "\n",
    "✅ Goals:\n",
    "Identify which books Booktubers loved but the public didn’t—or vice versa.\n",
    "\n",
    "Spot genre/author preference patterns in Booktuber picks.\n",
    "\n",
    "Create a fun chart: “Overhyped vs Underrated”\n",
    "\n",
    "🔧 Tools:\n",
    "Python (BeautifulSoup or requests + pandas)\n",
    "\n",
    "Optional: Web scrape goodread/youtube transacript\n",
    "\n",
    "Plot: Seaborn or Altair\n",
    "\n",
    "🧩 Steps:\n",
    "Pick one Booktuber video with a book list (Top 10 of 2023, 5-star reads, etc.).\n",
    "\n",
    "Extract book titles manually or via web scraping.\n",
    "\n",
    "Get average Goodreads ratings for each.\n",
    "\n",
    "Compare with your rating or Goodreads average baseline (e.g., global mean).\n",
    "\n",
    "Plot a scatterplot: x = Booktuber rating, y = Goodreads rating\n",
    "\n",
    "🎁 Output:\n",
    "A heatmap, scatterplot, or quadrant chart:\n",
    "\n",
    "\"Hype Discrepancy: Who’s Overrated, Who’s Underrated?\"\n",
    "\n",
    "🔥 Vibe:\n",
    "Witty, data-driven, perfect for Instagram stories or a blog post.\n",
    "Can become a monthly series: \"Hype Check: June Edition\"."
   ]
  },
  {
   "cell_type": "code",
   "execution_count": 1,
   "metadata": {},
   "outputs": [
    {
     "name": "stdout",
     "output_type": "stream",
     "text": [
      "               Title                Author  Average_Rating Booktuber_Rating  \\\n",
      "0    Wandering Stars         Orange, Tommy            3.84  really liked it   \n",
      "1          Skipshock  O'Donoghue, Caroline            4.28  really liked it   \n",
      "2  Glorious Exploits        Lennon, Ferdia            4.15   it was amazing   \n",
      "3               Gunk            Sams, Saba            3.95   it was amazing   \n",
      "4         Perfection   Latronico, Vincenzo            3.65  really liked it   \n",
      "\n",
      "      Date_Read    Date_Added  \n",
      "0  Jun 10, 2025  Jun 08, 2025  \n",
      "1  May 27, 2025  May 27, 2025  \n",
      "2  May 27, 2025  May 27, 2025  \n",
      "3  Jun 08, 2025  May 25, 2025  \n",
      "4  May 22, 2025  May 22, 2025  \n"
     ]
    }
   ],
   "source": [
    "import pandas as pd\n",
    "\n",
    "# Load the CSV into a DataFrame\n",
    "df = pd.read_csv(\"data/jack_edwards_goodread_cleaned.csv\")\n",
    "\n",
    "# Preview the first few rows (optional)\n",
    "print(df.head())\n"
   ]
  },
  {
   "cell_type": "code",
   "execution_count": 3,
   "metadata": {},
   "outputs": [
    {
     "name": "stdout",
     "output_type": "stream",
     "text": [
      "<class 'pandas.core.frame.DataFrame'>\n",
      "RangeIndex: 934 entries, 0 to 933\n",
      "Data columns (total 7 columns):\n",
      " #   Column                Non-Null Count  Dtype   \n",
      "---  ------                --------------  -----   \n",
      " 0   Title                 934 non-null    object  \n",
      " 1   Author                934 non-null    object  \n",
      " 2   Average_Rating        934 non-null    float64 \n",
      " 3   Booktuber_Rating      934 non-null    category\n",
      " 4   Date_Read             932 non-null    object  \n",
      " 5   Date_Added            934 non-null    object  \n",
      " 6   Booktuber_Rating_Num  934 non-null    category\n",
      "dtypes: category(2), float64(1), object(4)\n",
      "memory usage: 38.9+ KB\n"
     ]
    }
   ],
   "source": [
    "rating_order = [\n",
    "    'did not like it',\n",
    "    'it was ok',\n",
    "    'liked it',\n",
    "    'really liked it',\n",
    "    'it was amazing'\n",
    "]\n",
    "\n",
    "df[\"Booktuber_Rating\"] = pd.Categorical(\n",
    "    df[\"Booktuber_Rating\"],\n",
    "    categories=rating_order,\n",
    "    ordered=True\n",
    ")\n",
    "\n",
    "rating_map = {\n",
    "    'did not like it': 1,\n",
    "    'it was ok': 2,\n",
    "    'liked it': 3,\n",
    "    'really liked it': 4,\n",
    "    'it was amazing': 5\n",
    "}\n",
    "\n",
    "df[\"Booktuber_Rating_Num\"] = df[\"Booktuber_Rating\"].map(rating_map)"
   ]
  },
  {
   "cell_type": "code",
   "execution_count": 4,
   "metadata": {},
   "outputs": [
    {
     "data": {
      "text/html": [
       "<div>\n",
       "<style scoped>\n",
       "    .dataframe tbody tr th:only-of-type {\n",
       "        vertical-align: middle;\n",
       "    }\n",
       "\n",
       "    .dataframe tbody tr th {\n",
       "        vertical-align: top;\n",
       "    }\n",
       "\n",
       "    .dataframe thead th {\n",
       "        text-align: right;\n",
       "    }\n",
       "</style>\n",
       "<table border=\"1\" class=\"dataframe\">\n",
       "  <thead>\n",
       "    <tr style=\"text-align: right;\">\n",
       "      <th></th>\n",
       "      <th>Title</th>\n",
       "      <th>Author</th>\n",
       "      <th>Average_Rating</th>\n",
       "      <th>Booktuber_Rating</th>\n",
       "      <th>Date_Read</th>\n",
       "      <th>Date_Added</th>\n",
       "      <th>Booktuber_Rating_Num</th>\n",
       "    </tr>\n",
       "  </thead>\n",
       "  <tbody>\n",
       "    <tr>\n",
       "      <th>0</th>\n",
       "      <td>Wandering Stars</td>\n",
       "      <td>Orange, Tommy</td>\n",
       "      <td>3.84</td>\n",
       "      <td>really liked it</td>\n",
       "      <td>Jun 10, 2025</td>\n",
       "      <td>Jun 08, 2025</td>\n",
       "      <td>4</td>\n",
       "    </tr>\n",
       "    <tr>\n",
       "      <th>1</th>\n",
       "      <td>Skipshock</td>\n",
       "      <td>O'Donoghue, Caroline</td>\n",
       "      <td>4.28</td>\n",
       "      <td>really liked it</td>\n",
       "      <td>May 27, 2025</td>\n",
       "      <td>May 27, 2025</td>\n",
       "      <td>4</td>\n",
       "    </tr>\n",
       "    <tr>\n",
       "      <th>2</th>\n",
       "      <td>Glorious Exploits</td>\n",
       "      <td>Lennon, Ferdia</td>\n",
       "      <td>4.15</td>\n",
       "      <td>it was amazing</td>\n",
       "      <td>May 27, 2025</td>\n",
       "      <td>May 27, 2025</td>\n",
       "      <td>5</td>\n",
       "    </tr>\n",
       "    <tr>\n",
       "      <th>3</th>\n",
       "      <td>Gunk</td>\n",
       "      <td>Sams, Saba</td>\n",
       "      <td>3.95</td>\n",
       "      <td>it was amazing</td>\n",
       "      <td>Jun 08, 2025</td>\n",
       "      <td>May 25, 2025</td>\n",
       "      <td>5</td>\n",
       "    </tr>\n",
       "    <tr>\n",
       "      <th>4</th>\n",
       "      <td>Perfection</td>\n",
       "      <td>Latronico, Vincenzo</td>\n",
       "      <td>3.65</td>\n",
       "      <td>really liked it</td>\n",
       "      <td>May 22, 2025</td>\n",
       "      <td>May 22, 2025</td>\n",
       "      <td>4</td>\n",
       "    </tr>\n",
       "  </tbody>\n",
       "</table>\n",
       "</div>"
      ],
      "text/plain": [
       "               Title                Author  Average_Rating Booktuber_Rating  \\\n",
       "0    Wandering Stars         Orange, Tommy            3.84  really liked it   \n",
       "1          Skipshock  O'Donoghue, Caroline            4.28  really liked it   \n",
       "2  Glorious Exploits        Lennon, Ferdia            4.15   it was amazing   \n",
       "3               Gunk            Sams, Saba            3.95   it was amazing   \n",
       "4         Perfection   Latronico, Vincenzo            3.65  really liked it   \n",
       "\n",
       "      Date_Read    Date_Added Booktuber_Rating_Num  \n",
       "0  Jun 10, 2025  Jun 08, 2025                    4  \n",
       "1  May 27, 2025  May 27, 2025                    4  \n",
       "2  May 27, 2025  May 27, 2025                    5  \n",
       "3  Jun 08, 2025  May 25, 2025                    5  \n",
       "4  May 22, 2025  May 22, 2025                    4  "
      ]
     },
     "execution_count": 4,
     "metadata": {},
     "output_type": "execute_result"
    }
   ],
   "source": [
    "df.head()"
   ]
  }
 ],
 "metadata": {
  "kernelspec": {
   "display_name": "venv",
   "language": "python",
   "name": "python3"
  },
  "language_info": {
   "codemirror_mode": {
    "name": "ipython",
    "version": 3
   },
   "file_extension": ".py",
   "mimetype": "text/x-python",
   "name": "python",
   "nbconvert_exporter": "python",
   "pygments_lexer": "ipython3",
   "version": "3.11.4"
  }
 },
 "nbformat": 4,
 "nbformat_minor": 2
}
